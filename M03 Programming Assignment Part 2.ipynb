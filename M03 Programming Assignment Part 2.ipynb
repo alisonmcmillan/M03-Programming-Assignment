{
 "cells": [
  {
   "cell_type": "code",
   "execution_count": 7,
   "id": "1c61f233-8665-48e2-8e49-1448e5f6d157",
   "metadata": {},
   "outputs": [
    {
     "name": "stdout",
     "output_type": "stream",
     "text": [
      "['Harry', 'Ron', 'Hermione']\n"
     ]
    }
   ],
   "source": [
    "def good():\n",
    "    return['Harry', 'Ron', 'Hermione'] \n",
    "\n",
    "characters = good()\n",
    "print(characters)"
   ]
  },
  {
   "cell_type": "code",
   "execution_count": 16,
   "id": "cda0cdf6-c264-4050-99c4-01ee148be006",
   "metadata": {},
   "outputs": [
    {
     "name": "stdout",
     "output_type": "stream",
     "text": [
      "5\n"
     ]
    }
   ],
   "source": [
    "def get_odds ():\n",
    "    count = 0\n",
    "    for num in range(10):\n",
    "        if num % 2 != 0:\n",
    "            count += 1\n",
    "            if count == 3:\n",
    "                return num\n",
    "third_odd = get_odds()\n",
    "print(third_odd)"
   ]
  }
 ],
 "metadata": {
  "kernelspec": {
   "display_name": "Python 3 (ipykernel)",
   "language": "python",
   "name": "python3"
  },
  "language_info": {
   "codemirror_mode": {
    "name": "ipython",
    "version": 3
   },
   "file_extension": ".py",
   "mimetype": "text/x-python",
   "name": "python",
   "nbconvert_exporter": "python",
   "pygments_lexer": "ipython3",
   "version": "3.11.7"
  }
 },
 "nbformat": 4,
 "nbformat_minor": 5
}
