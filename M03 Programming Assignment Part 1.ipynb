{
 "cells": [
  {
   "cell_type": "code",
   "execution_count": 1,
   "id": "90728139-e2df-4516-a6d9-68187c2ce9d1",
   "metadata": {},
   "outputs": [
    {
     "data": {
      "text/plain": [
       "['mozzaarella', 'cinderella', 'salmonella']"
      ]
     },
     "execution_count": 1,
     "metadata": {},
     "output_type": "execute_result"
    }
   ],
   "source": [
    "things = [\"mozzaarella\", \"cinderella\", \"salmonella\"]\n",
    "things"
   ]
  },
  {
   "cell_type": "code",
   "execution_count": 11,
   "id": "9ec73bc3-7513-435a-8322-8cb503b8ceed",
   "metadata": {},
   "outputs": [
    {
     "data": {
      "text/plain": [
       "['mozzaarella', 'Cinderella', 'salmonella']"
      ]
     },
     "execution_count": 11,
     "metadata": {},
     "output_type": "execute_result"
    }
   ],
   "source": [
    "things = [\"mozzaarella\", \"cinderella\", \"salmonella\"]\n",
    "\n",
    "things[1] = things[1].capitalize()\n",
    "\n",
    "things"
   ]
  },
  {
   "cell_type": "code",
   "execution_count": 17,
   "id": "5ae9bfd6-daaf-42fb-885d-da88a3c5a07d",
   "metadata": {},
   "outputs": [
    {
     "data": {
      "text/plain": [
       "['MOZZAARELLA', 'Cinderella', 'salmonella']"
      ]
     },
     "execution_count": 17,
     "metadata": {},
     "output_type": "execute_result"
    }
   ],
   "source": [
    "things = [\"mozzaarella\", \"cinderella\", \"salmonella\"]\n",
    "\n",
    "things[1] = things[1].capitalize()\n",
    "things[0] = things[0].upper()\n",
    "\n",
    "things"
   ]
  },
  {
   "cell_type": "code",
   "execution_count": 18,
   "id": "7798a327-7265-443e-9679-e053f77ee0dd",
   "metadata": {},
   "outputs": [
    {
     "data": {
      "text/plain": [
       "['MOZZAARELLA', 'Cinderella']"
      ]
     },
     "execution_count": 18,
     "metadata": {},
     "output_type": "execute_result"
    }
   ],
   "source": [
    "things = [\"mozzaarella\", \"cinderella\", \"salmonella\"]\n",
    "\n",
    "things[1] = things[1].capitalize()\n",
    "things[0] = things[0].upper()\n",
    "\n",
    "del things[-1]\n",
    "\n",
    "things"
   ]
  }
 ],
 "metadata": {
  "kernelspec": {
   "display_name": "Python 3 (ipykernel)",
   "language": "python",
   "name": "python3"
  },
  "language_info": {
   "codemirror_mode": {
    "name": "ipython",
    "version": 3
   },
   "file_extension": ".py",
   "mimetype": "text/x-python",
   "name": "python",
   "nbconvert_exporter": "python",
   "pygments_lexer": "ipython3",
   "version": "3.11.7"
  }
 },
 "nbformat": 4,
 "nbformat_minor": 5
}
